{
 "cells": [
  {
   "cell_type": "code",
   "execution_count": 1,
   "id": "acc8216e",
   "metadata": {},
   "outputs": [
    {
     "data": {
      "text/html": [
       "<div>\n",
       "<style scoped>\n",
       "    .dataframe tbody tr th:only-of-type {\n",
       "        vertical-align: middle;\n",
       "    }\n",
       "\n",
       "    .dataframe tbody tr th {\n",
       "        vertical-align: top;\n",
       "    }\n",
       "\n",
       "    .dataframe thead th {\n",
       "        text-align: right;\n",
       "    }\n",
       "</style>\n",
       "<table border=\"1\" class=\"dataframe\">\n",
       "  <thead>\n",
       "    <tr style=\"text-align: right;\">\n",
       "      <th></th>\n",
       "      <th>x</th>\n",
       "      <th>y</th>\n",
       "    </tr>\n",
       "  </thead>\n",
       "  <tbody>\n",
       "    <tr>\n",
       "      <th>0</th>\n",
       "      <td>1</td>\n",
       "      <td>12</td>\n",
       "    </tr>\n",
       "    <tr>\n",
       "      <th>1</th>\n",
       "      <td>2</td>\n",
       "      <td>34</td>\n",
       "    </tr>\n",
       "    <tr>\n",
       "      <th>2</th>\n",
       "      <td>3</td>\n",
       "      <td>2</td>\n",
       "    </tr>\n",
       "    <tr>\n",
       "      <th>3</th>\n",
       "      <td>4</td>\n",
       "      <td>67</td>\n",
       "    </tr>\n",
       "    <tr>\n",
       "      <th>4</th>\n",
       "      <td>5</td>\n",
       "      <td>98</td>\n",
       "    </tr>\n",
       "  </tbody>\n",
       "</table>\n",
       "</div>"
      ],
      "text/plain": [
       "   x   y\n",
       "0  1  12\n",
       "1  2  34\n",
       "2  3   2\n",
       "3  4  67\n",
       "4  5  98"
      ]
     },
     "execution_count": 1,
     "metadata": {},
     "output_type": "execute_result"
    }
   ],
   "source": [
    "import numpy as np,pandas as pd\n",
    "from sklearn.linear_model import LinearRegression\n",
    "df=pd.DataFrame({\"x\":(1,2,3,4,5),\"y\":(12,34,2,67,98)})\n",
    "df"
   ]
  },
  {
   "cell_type": "code",
   "execution_count": 2,
   "id": "d591e1b8",
   "metadata": {},
   "outputs": [
    {
     "data": {
      "text/plain": [
       "LinearRegression()"
      ]
     },
     "execution_count": 2,
     "metadata": {},
     "output_type": "execute_result"
    }
   ],
   "source": [
    "input=df[[\"x\"]]\n",
    "output=df[\"y\"]\n",
    "tm=LinearRegression()\n",
    "tm.fit(input,output)"
   ]
  },
  {
   "cell_type": "code",
   "execution_count": 3,
   "id": "253351b9",
   "metadata": {},
   "outputs": [
    {
     "data": {
      "text/plain": [
       "array([20.5])"
      ]
     },
     "execution_count": 3,
     "metadata": {},
     "output_type": "execute_result"
    }
   ],
   "source": [
    "tm.coef_"
   ]
  },
  {
   "cell_type": "code",
   "execution_count": 4,
   "id": "f6b60e86",
   "metadata": {},
   "outputs": [
    {
     "data": {
      "text/plain": [
       "-18.90000000000002"
      ]
     },
     "execution_count": 4,
     "metadata": {},
     "output_type": "execute_result"
    }
   ],
   "source": [
    "tm.intercept_"
   ]
  },
  {
   "cell_type": "code",
   "execution_count": 6,
   "id": "669b7d1f",
   "metadata": {},
   "outputs": [
    {
     "data": {
      "text/plain": [
       "array([ 1.6, 22.1, 42.6, 63.1, 83.6])"
      ]
     },
     "execution_count": 6,
     "metadata": {},
     "output_type": "execute_result"
    }
   ],
   "source": [
    "prd=tm.predict(input)\n",
    "prd"
   ]
  },
  {
   "cell_type": "code",
   "execution_count": 8,
   "id": "4d70032e",
   "metadata": {},
   "outputs": [
    {
     "data": {
      "text/plain": [
       "424.14000000000004"
      ]
     },
     "execution_count": 8,
     "metadata": {},
     "output_type": "execute_result"
    }
   ],
   "source": [
    "from sklearn.metrics import mean_squared_error\n",
    "mse=mean_squared_error(output,prd)\n",
    "mse"
   ]
  },
  {
   "cell_type": "code",
   "execution_count": 9,
   "id": "33f314f7",
   "metadata": {},
   "outputs": [
    {
     "data": {
      "text/plain": [
       "LinearRegression()"
      ]
     },
     "execution_count": 9,
     "metadata": {},
     "output_type": "execute_result"
    }
   ],
   "source": [
    "Df=pd.DataFrame({\"S\":(1,2,3,4,5),\"z\":(6,7,8,9,10)})\n",
    "inp=Df[[\"S\"]]\n",
    "otpt=Df[\"z\"]\n",
    "tm.fit(inp,otpt)"
   ]
  },
  {
   "cell_type": "code",
   "execution_count": 10,
   "id": "567d5ee5",
   "metadata": {},
   "outputs": [
    {
     "data": {
      "text/plain": [
       "array([1.])"
      ]
     },
     "execution_count": 10,
     "metadata": {},
     "output_type": "execute_result"
    }
   ],
   "source": [
    "tm.coef_"
   ]
  },
  {
   "cell_type": "code",
   "execution_count": 11,
   "id": "c852f902",
   "metadata": {},
   "outputs": [
    {
     "data": {
      "text/plain": [
       "4.999999999999999"
      ]
     },
     "execution_count": 11,
     "metadata": {},
     "output_type": "execute_result"
    }
   ],
   "source": [
    "tm.intercept_"
   ]
  },
  {
   "cell_type": "code",
   "execution_count": 13,
   "id": "77866030",
   "metadata": {},
   "outputs": [
    {
     "data": {
      "text/plain": [
       "array([ 6.,  7.,  8.,  9., 10.])"
      ]
     },
     "execution_count": 13,
     "metadata": {},
     "output_type": "execute_result"
    }
   ],
   "source": [
    "prd=tm.predict(inp)\n",
    "prd"
   ]
  },
  {
   "cell_type": "code",
   "execution_count": 14,
   "id": "c2b322e7",
   "metadata": {},
   "outputs": [
    {
     "data": {
      "text/plain": [
       "1.5777218104420237e-31"
      ]
     },
     "execution_count": 14,
     "metadata": {},
     "output_type": "execute_result"
    }
   ],
   "source": [
    "from sklearn.metrics import mean_squared_error\n",
    "mean_squared_error(otpt,prd)"
   ]
  },
  {
   "cell_type": "code",
   "execution_count": null,
   "id": "0477ffaf",
   "metadata": {},
   "outputs": [],
   "source": []
  }
 ],
 "metadata": {
  "kernelspec": {
   "display_name": "Python 3 (ipykernel)",
   "language": "python",
   "name": "python3"
  },
  "language_info": {
   "codemirror_mode": {
    "name": "ipython",
    "version": 3
   },
   "file_extension": ".py",
   "mimetype": "text/x-python",
   "name": "python",
   "nbconvert_exporter": "python",
   "pygments_lexer": "ipython3",
   "version": "3.9.13"
  }
 },
 "nbformat": 4,
 "nbformat_minor": 5
}
